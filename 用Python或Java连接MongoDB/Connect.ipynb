{
 "metadata": {
  "language_info": {
   "codemirror_mode": {
    "name": "ipython",
    "version": 3
   },
   "file_extension": ".py",
   "mimetype": "text/x-python",
   "name": "python",
   "nbconvert_exporter": "python",
   "pygments_lexer": "ipython3",
   "version": "3.8.5-final"
  },
  "orig_nbformat": 2,
  "kernelspec": {
   "name": "python_defaultSpec_1601202576128",
   "display_name": "Python 3.8.5 64-bit",
   "metadata": {
    "interpreter": {
     "hash": "31f2aee4e71d21fbe5cf8b01ff0e069b9275f58929596ceb00d14d90e3e16cd6"
    }
   }
  }
 },
 "nbformat": 4,
 "nbformat_minor": 2,
 "cells": [
  {
   "cell_type": "code",
   "execution_count": 1,
   "metadata": {},
   "outputs": [],
   "source": [
    "import pymongo"
   ]
  },
  {
   "cell_type": "code",
   "execution_count": 4,
   "metadata": {},
   "outputs": [],
   "source": [
    "client= pymongo.MongoClient(\"mongodb://localhost:27017/\")\n"
   ]
  },
  {
   "cell_type": "code",
   "execution_count": 5,
   "metadata": {
    "tags": []
   },
   "outputs": [
    {
     "output_type": "stream",
     "name": "stdout",
     "text": "['admin', 'config', 'local', 'study_CRUD', 'test']\n"
    }
   ],
   "source": [
    "#打印数据库的名字\n",
    "print(client.list_database_names())"
   ]
  },
  {
   "cell_type": "code",
   "execution_count": 6,
   "metadata": {},
   "outputs": [],
   "source": [
    "db=client[\"test\"]"
   ]
  },
  {
   "cell_type": "code",
   "execution_count": 7,
   "metadata": {},
   "outputs": [],
   "source": [
    "student_col=db[\"student\"]"
   ]
  },
  {
   "cell_type": "code",
   "execution_count": 8,
   "metadata": {},
   "outputs": [],
   "source": [
    "query={\"gender\":\"f\"}"
   ]
  },
  {
   "cell_type": "code",
   "execution_count": 18,
   "metadata": {},
   "outputs": [],
   "source": [
    "projection={\"name\":1,\"_id\":0}"
   ]
  },
  {
   "cell_type": "code",
   "execution_count": 20,
   "metadata": {
    "tags": []
   },
   "outputs": [
    {
     "output_type": "stream",
     "name": "stdout",
     "text": "{'name': 'Kate'}\n{'name': 'Rose'}\n{'name': 'Grace'}\n{'name': 'Jessica'}\n"
    }
   ],
   "source": [
    "for x in student_col.find(query,projection):\n",
    "    print(x)"
   ]
  },
  {
   "cell_type": "code",
   "execution_count": 21,
   "metadata": {},
   "outputs": [],
   "source": [
    "student1 = { \n",
    "    \"name\": \"Joe\", \"gender\": \"m\", \"age\": 23\n",
    "    }\n",
    "student2 = { \n",
    "    \"name\": \"Kate\", \"gender\": \"f\", 'age': 22\n",
    "    }"
   ]
  },
  {
   "cell_type": "code",
   "execution_count": 22,
   "metadata": {},
   "outputs": [
    {
     "output_type": "execute_result",
     "data": {
      "text/plain": "<pymongo.results.InsertManyResult at 0x111540ac0>"
     },
     "metadata": {},
     "execution_count": 22
    }
   ],
   "source": [
    "student_col.insert_many([student1, student2])"
   ]
  },
  {
   "cell_type": "code",
   "execution_count": 24,
   "metadata": {},
   "outputs": [
    {
     "output_type": "error",
     "ename": "TypeError",
     "evalue": "update() missing 1 required positional argument: 'document'",
     "traceback": [
      "\u001b[0;31m---------------------------------------------------------------------------\u001b[0m",
      "\u001b[0;31mTypeError\u001b[0m                                 Traceback (most recent call last)",
      "\u001b[0;32m<ipython-input-24-3fff3fcec943>\u001b[0m in \u001b[0;36m<module>\u001b[0;34m\u001b[0m\n\u001b[0;32m----> 1\u001b[0;31m student_col.update({  \"name\": \"Joe\", \"gender\": \"m\", \"age\": 23, \n\u001b[0m\u001b[1;32m      2\u001b[0m     \u001b[0;34m\"birthdate\"\u001b[0m\u001b[0;34m:\u001b[0m \u001b[0;34m{\u001b[0m \u001b[0;34m\"day\"\u001b[0m\u001b[0;34m:\u001b[0m \u001b[0;36m15\u001b[0m\u001b[0;34m,\u001b[0m \u001b[0;34m\"month\"\u001b[0m\u001b[0;34m:\u001b[0m \u001b[0;36m3\u001b[0m\u001b[0;34m,\u001b[0m \u001b[0;34m\"year\"\u001b[0m\u001b[0;34m:\u001b[0m \u001b[0;36m1997\u001b[0m \u001b[0;34m}\u001b[0m\u001b[0;34m,\u001b[0m\u001b[0;34m\u001b[0m\u001b[0;34m\u001b[0m\u001b[0m\n\u001b[1;32m      3\u001b[0m     \u001b[0;34m\"hobby\"\u001b[0m\u001b[0;34m:\u001b[0m \u001b[0;34m[\u001b[0m\u001b[0;34m\"football\"\u001b[0m\u001b[0;34m,\u001b[0m \u001b[0;34m\"basketball\"\u001b[0m\u001b[0;34m,\u001b[0m \u001b[0;34m\"reading\"\u001b[0m\u001b[0;34m]\u001b[0m\u001b[0;34m,\u001b[0m\u001b[0;34m\u001b[0m\u001b[0;34m\u001b[0m\u001b[0m\n\u001b[1;32m      4\u001b[0m     \"city\": \"Beijing\"})\n",
      "\u001b[0;31mTypeError\u001b[0m: update() missing 1 required positional argument: 'document'"
     ]
    }
   ],
   "source": [
    "student_col.update({  \"name\": \"Joe\", \"gender\": \"m\", \"age\": 23, \n",
    "    \"birthdate\": { \"day\": 15, \"month\": 3, \"year\": 1997 }, \n",
    "    \"hobby\": [\"football\", \"basketball\", \"reading\"], \n",
    "    \"city\": \"Beijing\"})"
   ]
  },
  {
   "cell_type": "code",
   "execution_count": 26,
   "metadata": {},
   "outputs": [
    {
     "output_type": "execute_result",
     "data": {
      "text/plain": "{'_id': ObjectId('5f706bdba244385e3bda318e'),\n 'name': 'Joe',\n 'gender': 'm',\n 'age': 23.0,\n 'birthdate': {'day': 15.0, 'month': 3.0, 'year': 1997.0},\n 'hobby': ['football', 'basketball', 'reading'],\n 'city': 'Beijing',\n 'time': [9.0, 18.0]}"
     },
     "metadata": {},
     "execution_count": 26
    }
   ],
   "source": [
    "student_col.find_one()"
   ]
  },
  {
   "cell_type": "code",
   "execution_count": 51,
   "metadata": {},
   "outputs": [],
   "source": [
    "query={\"hobby\": ['cooking','photography']}#存疑"
   ]
  },
  {
   "cell_type": "code",
   "execution_count": 49,
   "metadata": {},
   "outputs": [],
   "source": [
    "query={\"$or\":[{\"city\":\"Shanghai\",\"age\":{\"$lt\":23}}]}"
   ]
  },
  {
   "cell_type": "code",
   "execution_count": 52,
   "metadata": {
    "tags": []
   },
   "outputs": [
    {
     "output_type": "stream",
     "name": "stdout",
     "text": "{'_id': ObjectId('5f706bdba244385e3bda3191'), 'name': 'Jason', 'gender': 'm', 'age': 21.0, 'birthdate': {'day': 17.0, 'month': 12.0, 'year': 1999.0}, 'hobby': ['cooking', 'photography'], 'city': 'Chengdu', 'time': [8.0, 20.0]}\n\n\n"
    }
   ],
   "source": [
    "for x in student_col.find(query):\n",
    "    print(x)\n",
    "    print(\"\\n\")"
   ]
  },
  {
   "cell_type": "code",
   "execution_count": 61,
   "metadata": {},
   "outputs": [],
   "source": [
    "myquery={\"birthdate.month\":{\"$lt\":9.0}}\n",
    "newvalues={\"$set\":{\"age\":23}}\n"
   ]
  },
  {
   "cell_type": "code",
   "execution_count": 62,
   "metadata": {
    "tags": []
   },
   "outputs": [
    {
     "output_type": "stream",
     "name": "stdout",
     "text": "{'_id': ObjectId('5f706bdba244385e3bda318e'), 'name': 'Joe', 'gender': 'm', 'age': 23.0, 'birthdate': {'day': 15.0, 'month': 3.0, 'year': 1997.0}, 'hobby': ['football', 'basketball', 'reading'], 'city': 'Beijing', 'time': [9.0, 18.0]}\n\n\n{'_id': ObjectId('5f706bdba244385e3bda318f'), 'name': 'Kate', 'gender': 'f', 'age': 22.0, 'birthdate': {'day': 25.0, 'month': 7.0, 'year': 1998.0}, 'hobby': ['reading', 'piano'], 'city': 'Hangzhou', 'time': [8.0, 17.0]}\n\n\n{'_id': ObjectId('5f706bdba244385e3bda3190'), 'name': 'Rose', 'gender': 'f', 'age': 24.0, 'birthdate': {'day': 3.0, 'month': 3.0, 'year': 1996.0}, 'hobby': ['basketball', 'running', 'traveling'], 'city': 'Shanghai', 'time': [9.0, 19.0]}\n\n\n{'_id': ObjectId('5f706bdba244385e3bda3192'), 'name': 'Grace', 'gender': 'f', 'age': 22.0, 'birthdate': {'day': 10.0, 'month': 6.0, 'year': 1998.0}, 'hobby': ['photography', 'cooking', 'drama'], 'city': 'Nanjing', 'time': [9.0, 18.0]}\n\n\n{'_id': ObjectId('5f706bdba244385e3bda3193'), 'name': 'Jessica', 'gender': 'f', 'age': 22.0, 'birthdate': {'day': 21.0, 'month': 3.0, 'year': 1998.0}, 'hobby': ['cooking', 'piano'], 'city': 'Shanghai', 'time': [10.0, 19.0]}\n\n\n"
    }
   ],
   "source": [
    "for x in student_col.find(myquery):\n",
    "    print(x)\n",
    "    print(\"\\n\")"
   ]
  },
  {
   "cell_type": "code",
   "execution_count": 63,
   "metadata": {},
   "outputs": [
    {
     "output_type": "execute_result",
     "data": {
      "text/plain": "{'n': 1, 'nModified': 1, 'ok': 1.0, 'updatedExisting': True}"
     },
     "metadata": {},
     "execution_count": 63
    }
   ],
   "source": [
    "student_col.update(myquery,newvalues)"
   ]
  },
  {
   "cell_type": "code",
   "execution_count": 64,
   "metadata": {},
   "outputs": [
    {
     "output_type": "execute_result",
     "data": {
      "text/plain": "<pymongo.results.DeleteResult at 0x111eeea80>"
     },
     "metadata": {},
     "execution_count": 64
    }
   ],
   "source": [
    "student_col.delete_many({\"age\":23})"
   ]
  },
  {
   "cell_type": "code",
   "execution_count": null,
   "metadata": {},
   "outputs": [],
   "source": []
  }
 ]
}