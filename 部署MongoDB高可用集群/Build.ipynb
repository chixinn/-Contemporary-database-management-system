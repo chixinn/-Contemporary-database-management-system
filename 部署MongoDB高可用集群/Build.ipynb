{
 "metadata": {
  "language_info": {
   "codemirror_mode": {
    "name": "ipython",
    "version": 3
   },
   "file_extension": ".py",
   "mimetype": "text/x-python",
   "name": "python",
   "nbconvert_exporter": "python",
   "pygments_lexer": "ipython3",
   "version": "3.8.5-final"
  },
  "orig_nbformat": 2,
  "kernelspec": {
   "name": "python_defaultSpec_1601447544987",
   "display_name": "Python 3.8.5 64-bit"
  }
 },
 "nbformat": 4,
 "nbformat_minor": 2,
 "cells": [
  {
   "cell_type": "code",
   "execution_count": 1,
   "metadata": {},
   "outputs": [],
   "source": [
    "#用py连接我们所搭建的高可用集群。\n",
    "import pymongo\n",
    "\n"
   ]
  },
  {
   "cell_type": "code",
   "execution_count": 2,
   "metadata": {},
   "outputs": [],
   "source": [
    "client = pymongo.MongoClient('localhost', replicaset='rep0')"
   ]
  },
  {
   "cell_type": "code",
   "execution_count": 3,
   "metadata": {
    "tags": []
   },
   "outputs": [
    {
     "output_type": "stream",
     "name": "stdout",
     "text": "[&#39;admin&#39;, &#39;config&#39;, &#39;local&#39;]\n"
    }
   ],
   "source": [
    "print(client.database_names())"
   ]
  },
  {
   "cell_type": "code",
   "execution_count": 4,
   "metadata": {
    "tags": []
   },
   "outputs": [
    {
     "output_type": "stream",
     "name": "stdout",
     "text": "[&#39;admin&#39;, &#39;config&#39;, &#39;local&#39;]\n"
    }
   ],
   "source": [
    "print(client.list_database_names())"
   ]
  },
  {
   "cell_type": "code",
   "execution_count": 12,
   "metadata": {},
   "outputs": [],
   "source": [
    "db = client[\"test\"]\n",
    "#或者用db = client.test\n",
    "col=db[\"student\"]"
   ]
  },
  {
   "cell_type": "code",
   "execution_count": 13,
   "metadata": {},
   "outputs": [],
   "source": [
    "dict1={ \"name\": \"Joe\",  \"gender\": \"m\", \"age\": 23, \"birthdate\": { \"day\": 15, \"month\": 3, \"year\": 1997 }, \"hobby\": [\"football\", \"basketball\", \"reading\"], \"city\": \"Beijing\", \"time\": [9, 18] }\n",
    "dict2={ \"name\": \"Kate\",  \"gender\": \"f\", \"age\": 22, \"birthdate\": { \"day\": 25, \"month\": 7, \"year\": 1998 }, \"hobby\": [\"reading\", \"piano\"], \"city\": \"Hangzhou\", \"time\": [8, 17] }"
   ]
  },
  {
   "cell_type": "code",
   "execution_count": 16,
   "metadata": {
    "tags": []
   },
   "outputs": [
    {
     "output_type": "stream",
     "name": "stdout",
     "text": "5f74294672870e38e74cda2e\n"
    }
   ],
   "source": [
    "x=col.insert_one(dict2)\n",
    "print(x.inserted_id)"
   ]
  },
  {
   "cell_type": "code",
   "execution_count": null,
   "metadata": {},
   "outputs": [],
   "source": []
  }
 ]
}